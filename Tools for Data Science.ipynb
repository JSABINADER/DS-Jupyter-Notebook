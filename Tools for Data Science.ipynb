{
 "cells": [
  {
   "cell_type": "markdown",
   "metadata": {},
   "source": [
    "<center>\n",
    "    <img src=\"https://cf-courses-data.s3.us.cloud-object-storage.appdomain.cloud/IBMDeveloperSkillsNetwork-DS0105EN-SkillsNetwork/labs/Module2/images/SN_web_lightmode.png\" width=\"300\" alt=\"cognitiveclass.ai logo\">\n",
    "</center>\n"
   ]
  },
  {
   "cell_type": "markdown",
   "metadata": {
    "tags": []
   },
   "source": [
    "# **Peer-graded Assignment: \"Tools for Data Science\"**\n",
    "\n",
    "Exercise 2 - Create a markdown cell with the title of the notebook. (1 pt)"
   ]
  },
  {
   "cell_type": "markdown",
   "metadata": {
    "jp-MarkdownHeadingCollapsed": true,
    "tags": []
   },
   "source": [
    "## **Introduction**:\n",
    "### This project is the final assignment for the course \"Tools for Data Science\", part of the IBM Data Science Certificate.\n",
    "\n",
    "Exercise 3 - Create a markdown cell for an introduction. (1 pt)"
   ]
  },
  {
   "cell_type": "markdown",
   "metadata": {
    "jp-MarkdownHeadingCollapsed": true,
    "tags": []
   },
   "source": [
    "## Data Sciece Languages\n",
    "### The following is a list of some of the most used languages for data science:\n",
    "Exercise 4 - Create a markdown cell to list data science languages. (3 pts)"
   ]
  },
  {
   "cell_type": "markdown",
   "metadata": {},
   "source": [
    "* Python\n",
    "* R\n",
    "* Java\n",
    "* MATLAB\n",
    "* SAS\n",
    "* Ruby\n",
    "* Julia\n",
    "* Scala\n",
    "* SQL\n",
    "* JavaScript"
   ]
  },
  {
   "cell_type": "markdown",
   "metadata": {
    "jp-MarkdownHeadingCollapsed": true,
    "tags": []
   },
   "source": [
    "## **Data Science Libraries**\n",
    "### The following is a list of some of the most used libraries for data science:\n",
    "Exercise 5 - Create a markdown cell to list data science libraries. (3 pts)"
   ]
  },
  {
   "cell_type": "markdown",
   "metadata": {
    "jp-MarkdownHeadingCollapsed": true,
    "tags": []
   },
   "source": [
    "#### Scala:"
   ]
  },
  {
   "cell_type": "markdown",
   "metadata": {},
   "source": [
    "* Vegas\n",
    "* Deep Learning: Big DL"
   ]
  },
  {
   "cell_type": "markdown",
   "metadata": {
    "jp-MarkdownHeadingCollapsed": true,
    "tags": []
   },
   "source": [
    "#### R:"
   ]
  },
  {
   "cell_type": "markdown",
   "metadata": {},
   "source": [
    "* ggplot2\n",
    "* TensorFlow\n",
    "* Keras"
   ]
  },
  {
   "cell_type": "markdown",
   "metadata": {
    "jp-MarkdownHeadingCollapsed": true,
    "tags": []
   },
   "source": [
    "#### Python:"
   ]
  },
  {
   "cell_type": "markdown",
   "metadata": {},
   "source": [
    "* Pandas\n",
    "* Numpy\n",
    "* Matplotlib\n",
    "* Seaborn\n",
    "* Keras\n",
    "* Scikit-Learn\n",
    "* TensorFlow\n",
    "* PyTorch"
   ]
  },
  {
   "cell_type": "markdown",
   "metadata": {
    "jp-MarkdownHeadingCollapsed": true,
    "tags": []
   },
   "source": [
    "## Data Science Tools\n",
    "Exercise 6 - Create a markdown cell with a table of Data Science tools. (3 pts)"
   ]
  },
  {
   "cell_type": "markdown",
   "metadata": {},
   "source": [
    "| Tool             | Description                                               |\n",
    "|------------------|-----------------------------------------------------------|\n",
    "| Python           | General-purpose programming language                       |\n",
    "| R                | Programming language for statistical computing             |\n",
    "| SQL              | Language for managing relational databases                 |\n",
    "| SAS              | Statistical analysis system                                |\n",
    "| SPSS             | Statistical software package                               |\n",
    "| MATLAB           | Numerical computing and programming language               |\n",
    "| Apache Spark     | Open-source big data processing engine                      |\n",
    "| Hadoop           | Distributed storage and processing system for big data     |\n",
    "| TensorFlow       | Open-source machine learning platform                       |\n",
    "| Scikit-learn     | A machine learning library for Python, providing a range of supervised and unsupervised learning algorithms|\n",
    "| IBM Watson Studio | A cloud-based platform for data scientists, developers, and subject matter experts to collaborate and build AI and machine learning models. |\n",
    "| Jupyter Notebooks / JupyterLab | An open-source web application that allows you to create and share documents containing live code, equations, visualizations, and narrative text |\n",
    "| Pandas           | A software library for data manipulation and analysis |"
   ]
  },
  {
   "cell_type": "markdown",
   "metadata": {
    "jp-MarkdownHeadingCollapsed": true,
    "tags": []
   },
   "source": [
    "## Arithmetic Expression Examples\n",
    "Arithmetic expressions are crucial for programming and data analysis. They allow us to perform mathematical operations on numerical values, such as addition, subtraction, multiplication, and division. In this notebook, we will explore some examples of arithmetic expressions using Python.\n",
    "\n",
    "Exercise 7 - Create a markdown cell introducing arithmetic expression examples. (1 pt)"
   ]
  },
  {
   "cell_type": "code",
   "execution_count": 13,
   "metadata": {},
   "outputs": [
    {
     "name": "stdout",
     "output_type": "stream",
     "text": [
      "The following number is the result of add the variables 'a' and  'b': 2 + 1 =  3\n",
      "The following number is the result of multiply the variables 'a' and  'c': 2 * 3 =  6\n"
     ]
    }
   ],
   "source": [
    "# Addition and Multiplication examples in Python:\n",
    "\n",
    "a = 2\n",
    "b = 1\n",
    "c = 3\n",
    "\n",
    "print(f\"The following number is the result of add the variables 'a' and  'b': {a} + {b} =  {a+b}\")\n",
    "print(f\"The following number is the result of multiply the variables 'a' and  'c': {a} * {c} =  {a*c}\")\n",
    "\n",
    "#Exercise 8 - Create a code cell to multiply and add numbers.(2 pts)"
   ]
  },
  {
   "cell_type": "markdown",
   "metadata": {
    "jp-MarkdownHeadingCollapsed": true,
    "tags": []
   },
   "source": [
    "## Converting Minutes to Hours Using Python\n",
    "#Exercise 9 - Create a code cell to convert minutes to hours. (2 pts)"
   ]
  },
  {
   "cell_type": "code",
   "execution_count": 24,
   "metadata": {},
   "outputs": [
    {
     "name": "stdin",
     "output_type": "stream",
     "text": [
      "How many minutes?:  1000\n"
     ]
    },
    {
     "name": "stdout",
     "output_type": "stream",
     "text": [
      "16:40\n"
     ]
    }
   ],
   "source": [
    "# Minutes to Hours Converter:\n",
    "# Minutes Input\n",
    "minutes = int(input(\"How many minutes?: \"))\n",
    "\n",
    "# calculate the number of hours and minutes\n",
    "hours = minutes // 60\n",
    "minutes = minutes % 60\n",
    "\n",
    "# print the result\n",
    "print(f\"{hours}:{minutes:02d}\")"
   ]
  },
  {
   "cell_type": "markdown",
   "metadata": {
    "tags": []
   },
   "source": [
    "## Objectives\n",
    "Exercise 10 -Insert a markdown cell to list Objectives. (3 pts)"
   ]
  },
  {
   "cell_type": "markdown",
   "metadata": {},
   "source": [
    "* Gain proficiency in programming languages such as Python and R, as these are widely used in the field of data science.\n",
    "\n",
    "* Learn data manipulation techniques: Data science tools help in data manipulation, cleaning and preprocessing, which are critical tasks in data science.\n",
    "\n",
    "* Develop machine learning skills: Learning data science tools can help you learn how to build and train machine learning models.\n",
    "\n",
    "* Enhance data visualization skills: Data visualization is a crucial part of data science. Data science tools provide various visualization techniques and learning these tools can help you enhance your data visualization skills.\n",
    "\n",
    "* Solve real-world problems: The ultimate objective of learning data science tools is to solve real-world problems using data science techniques. By learning these tools, you can gain the skills required to solve complex problems using data science techniques."
   ]
  },
  {
   "cell_type": "markdown",
   "metadata": {
    "tags": []
   },
   "source": [
    "## Author\n",
    "### José Santana Abinader\n",
    "Exercise 11 - Create a markdown cell to indicate the Author’s name. (2 pts)\n"
   ]
  }
 ],
 "metadata": {
  "kernelspec": {
   "display_name": "Python",
   "language": "python",
   "name": "conda-env-python-py"
  },
  "language_info": {
   "codemirror_mode": {
    "name": "ipython",
    "version": 3
   },
   "file_extension": ".py",
   "mimetype": "text/x-python",
   "name": "python",
   "nbconvert_exporter": "python",
   "pygments_lexer": "ipython3",
   "version": "3.7.12"
  }
 },
 "nbformat": 4,
 "nbformat_minor": 4
}
